{
 "cells": [
  {
   "cell_type": "markdown",
   "id": "9beb8aa0-c798-4080-8e3f-91c40129f8d9",
   "metadata": {},
   "source": [
    "# Data Science Tools and Ecosystem"
   ]
  },
  {
   "cell_type": "markdown",
   "id": "6080e65f-c66e-4a8a-8c6e-68d4d39f15e4",
   "metadata": {},
   "source": [
    "# In this notebook, we will summarize Data Science Tools and Ecosystem"
   ]
  },
  {
   "cell_type": "markdown",
   "id": "ec93683e-2c72-4a08-96ac-6e40a4f0609d",
   "metadata": {},
   "source": [
    "# Some of the popular languages that Data Scientists use are:\n",
    "# 1. Python\n",
    "# 2. R\n",
    "# 3. SQL\n",
    "# 4. Scala\n",
    "# 5. Java\n",
    "# 6. C++\n",
    "# 7. Julia"
   ]
  },
  {
   "cell_type": "markdown",
   "id": "8114ba56-227a-49b9-8645-a7c15442169b",
   "metadata": {},
   "source": [
    "# Some of the commonly used libraries by Data Scientists include:\n",
    "# 1. Numpy\n",
    "# 2. Scipy\n",
    "# 3. Matplotlib\n",
    "# 4. Tensorflow"
   ]
  },
  {
   "cell_type": "markdown",
   "id": "b023322e-a637-4140-b814-e1b6d377cf7c",
   "metadata": {},
   "source": [
    "|Data Science Tools|\n",
    "|------------------|\n",
    "|Jupyter notebook|\n",
    "|Google Colab|\n",
    "|RStudio|\n",
    "|VS Code|\n",
    "|GitHub|"
   ]
  },
  {
   "cell_type": "markdown",
   "id": "54788a11-cf3e-4e93-9fe2-f6ccc3ea66d2",
   "metadata": {},
   "source": [
    "### Below are a few examples of evaluating arithmetic expressions in Python."
   ]
  },
  {
   "cell_type": "markdown",
   "id": "75def1cb-ba5d-459f-b134-a4795c731a14",
   "metadata": {},
   "source": [
    "# This is a simple arithmetic expression to multiply and then add integers."
   ]
  },
  {
   "cell_type": "code",
   "execution_count": 1,
   "id": "a061b19e-cce7-4f39-af72-a44176964945",
   "metadata": {},
   "outputs": [
    {
     "data": {
      "text/plain": [
       "17"
      ]
     },
     "execution_count": 1,
     "metadata": {},
     "output_type": "execute_result"
    }
   ],
   "source": [
    "(3*4)+5"
   ]
  },
  {
   "cell_type": "code",
   "execution_count": 2,
   "id": "bfe0ea16-5019-47a6-b317-4c2858ce41ad",
   "metadata": {},
   "outputs": [
    {
     "name": "stdout",
     "output_type": "stream",
     "text": [
      "3.3333333333333335\n"
     ]
    }
   ],
   "source": [
    "minutos = 200\n",
    "horas = minutos / 60\n",
    "print(horas)"
   ]
  },
  {
   "cell_type": "markdown",
   "id": "d56a681e-9340-42b8-a189-39a58e1338ce",
   "metadata": {},
   "source": [
    "# This code will convert 200 minutes to hours by dividing by 60."
   ]
  },
  {
   "cell_type": "code",
   "execution_count": null,
   "id": "2e0220eb-fe10-47f3-ae94-a24c321d454d",
   "metadata": {},
   "outputs": [],
   "source": []
  }
 ],
 "metadata": {
  "kernelspec": {
   "display_name": "Python 3 (ipykernel)",
   "language": "python",
   "name": "python3"
  },
  "language_info": {
   "codemirror_mode": {
    "name": "ipython",
    "version": 3
   },
   "file_extension": ".py",
   "mimetype": "text/x-python",
   "name": "python",
   "nbconvert_exporter": "python",
   "pygments_lexer": "ipython3",
   "version": "3.12.8"
  }
 },
 "nbformat": 4,
 "nbformat_minor": 5
}
